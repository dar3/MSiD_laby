{
 "cells": [
  {
   "attachments": {},
   "cell_type": "markdown",
   "metadata": {
    "id": "65h6ycL6VHaO"
   },
   "source": [
    "## **Optymalizacja numeryczna I**"
   ]
  },
  {
   "attachments": {},
   "cell_type": "markdown",
   "metadata": {
    "id": "jCGCCNEreGXp"
   },
   "source": [
    "**Metody analityczne** - rozwiązanie ma postać <font color='blue'> jawnego wzoru </font>, wynik jest <font color='blue'> dokładny</font>.\n",
    "<br>\n",
    "**Metody numeryczne** - rozwiązanie uzyskiwane jest <font color='blue'> w sposób iteracyjny </font> (_metodą kolejnych przybliżeń_), wynik jest <font color='blue'> przybliżony</font>.\n",
    "\n",
    "Temat optymalizacji podzielony jest na dwie części:\n",
    "\n",
    "I.   przedstawienie sposobu korzystania z bibliotecznych implementacji metod optymalizacji, (dzisiejsze zajęcia)<br>\n",
    "II.   objaśnienie zasad działania bibliotecznych algorytmów optymalizacji. (kolejne zajęcia)\n",
    "\n",
    "Z części I dowiesz się <font color='orange'>**jak tego używać**</font>. <br>\n",
    "W II części zgłębisz <font color='orange'>**w jaki sposób to działa**</font>, co zwiększy szansę, że we własnych projektach użyjesz tych metod bardziej efektywnie.\n",
    "\n"
   ]
  },
  {
   "attachments": {},
   "cell_type": "markdown",
   "metadata": {
    "id": "YscbnI1tVR4g"
   },
   "source": [
    "---\n",
    "### **Część I** - <font color='orange'>jak tego używać."
   ]
  },
  {
   "attachments": {},
   "cell_type": "markdown",
   "metadata": {},
   "source": []
  },
  {
   "cell_type": "code",
   "execution_count": null,
   "metadata": {
    "id": "Ovt9W-owVN89",
    "is_executing": true
   },
   "outputs": [],
   "source": [
    "import numpy as np\n",
    "import matplotlib.pyplot as plt\n",
    "from scipy import optimize\n",
    "\n",
    "from typing import Tuple"
   ]
  },
  {
   "attachments": {},
   "cell_type": "markdown",
   "metadata": {
    "id": "fBnKFHPEWcpk"
   },
   "source": [
    "#### **Optymalizacja bez ograniczeń**"
   ]
  },
  {
   "attachments": {},
   "cell_type": "markdown",
   "metadata": {
    "id": "1GjM_lktWVyO"
   },
   "source": [
    "Zaczynamy od funkcji jednej zmiennej:\n",
    "$$F(x) = \\cos x - 3\\exp\\left[-(x-0.2)^2\\right]$$\n",
    "\n",
    "\n",
    "Znając bibliotekę matplotlib wykreślmy wykres ww. funkcji - pomoże nam to w analizie naszych wyników."
   ]
  },
  {
   "cell_type": "code",
   "execution_count": null,
   "metadata": {
    "is_executing": true
   },
   "outputs": [],
   "source": []
  },
  {
   "attachments": {},
   "cell_type": "markdown",
   "metadata": {},
   "source": [
    "Znajdźmy minimum funkcji przy uzyciu domyślnych parametrów funkcji `optimize.fmin`. Domyślnie wykorzystywany algorytm to metoda Neldera-Meada."
   ]
  },
  {
   "cell_type": "code",
   "execution_count": 10,
   "metadata": {
    "colab": {
     "base_uri": "https://localhost:8080/"
    },
    "id": "fApQ0THNApO9",
    "outputId": "5211294a-31b8-42cc-dc30-d02db4d831fb",
    "ExecuteTime": {
     "end_time": "2024-05-09T05:51:57.087680Z",
     "start_time": "2024-05-09T05:51:57.050738Z"
    }
   },
   "outputs": [
    {
     "ename": "NameError",
     "evalue": "name 'optimize' is not defined",
     "output_type": "error",
     "traceback": [
      "\u001B[1;31m---------------------------------------------------------------------------\u001B[0m",
      "\u001B[1;31mNameError\u001B[0m                                 Traceback (most recent call last)",
      "Cell \u001B[1;32mIn[10], line 6\u001B[0m\n\u001B[0;32m      3\u001B[0m   \u001B[38;5;241m.\u001B[39m\u001B[38;5;241m.\u001B[39m\u001B[38;5;241m.\u001B[39m\n\u001B[0;32m      5\u001B[0m x_pocz \u001B[38;5;241m=\u001B[39m np\u001B[38;5;241m.\u001B[39mrandom\u001B[38;5;241m.\u001B[39muniform(\u001B[38;5;241m-\u001B[39m\u001B[38;5;241m1\u001B[39m, \u001B[38;5;241m10\u001B[39m)\n\u001B[1;32m----> 6\u001B[0m x_opt \u001B[38;5;241m=\u001B[39m optimize\u001B[38;5;241m.\u001B[39mfmin(Fcelu, x_pocz)  \u001B[38;5;66;03m# implementacja metody Neldera-Meada\u001B[39;00m\n\u001B[0;32m      7\u001B[0m \u001B[38;5;28mprint\u001B[39m(x_opt)\n",
      "\u001B[1;31mNameError\u001B[0m: name 'optimize' is not defined"
     ]
    }
   ],
   "source": [
    "def Fcelu(x):\n",
    "  # wykorzystaj tutaj implementację funkcji F(x) użytą do wizualizacji\n",
    "  ...\n",
    "\n",
    "x_pocz = np.random.uniform(-1, 10)\n",
    "x_opt = optimize.fmin(Fcelu, x_pocz)  # implementacja metody Neldera-Meada\n",
    "print(x_opt)"
   ]
  },
  {
   "attachments": {},
   "cell_type": "markdown",
   "metadata": {},
   "source": [
    "Wykonaj powyższą komórkę kilkukrotnie - co zauważasz? Czy wybór punktu początkowego ma wpływ na ostateczny wynik?"
   ]
  },
  {
   "cell_type": "code",
   "execution_count": 10,
   "metadata": {
    "ExecuteTime": {
     "end_time": "2024-05-09T05:51:57.112932Z",
     "start_time": "2024-05-09T05:51:57.108589Z"
    }
   },
   "outputs": [],
   "source": []
  },
  {
   "attachments": {},
   "cell_type": "markdown",
   "metadata": {
    "id": "JhYV3HLCYm4l"
   },
   "source": [
    "A jeżeli trzeba znaleźć maksimum?\n",
    "$$ \\arg\\max F(x) = \\arg\\min-F(x)$$"
   ]
  },
  {
   "cell_type": "code",
   "execution_count": 11,
   "metadata": {
    "colab": {
     "base_uri": "https://localhost:8080/"
    },
    "id": "dDrmWieAYqJI",
    "outputId": "99888485-f541-468a-969b-aa8ceb71fd68",
    "ExecuteTime": {
     "end_time": "2024-05-09T05:51:57.315727Z",
     "start_time": "2024-05-09T05:51:57.278164Z"
    }
   },
   "outputs": [
    {
     "ename": "NameError",
     "evalue": "name 'optimize' is not defined",
     "output_type": "error",
     "traceback": [
      "\u001B[1;31m---------------------------------------------------------------------------\u001B[0m",
      "\u001B[1;31mNameError\u001B[0m                                 Traceback (most recent call last)",
      "Cell \u001B[1;32mIn[11], line 5\u001B[0m\n\u001B[0;32m      2\u001B[0m   \u001B[38;5;28;01mreturn\u001B[39;00m \u001B[38;5;241m-\u001B[39mFcelu(x)\n\u001B[0;32m      4\u001B[0m x_pocz \u001B[38;5;241m=\u001B[39m np\u001B[38;5;241m.\u001B[39mrandom\u001B[38;5;241m.\u001B[39muniform(\u001B[38;5;241m-\u001B[39m\u001B[38;5;241m1\u001B[39m,\u001B[38;5;241m4\u001B[39m)\n\u001B[1;32m----> 5\u001B[0m x_opt \u001B[38;5;241m=\u001B[39m optimize\u001B[38;5;241m.\u001B[39mfmin(neg_Fcelu, x_pocz)\n\u001B[0;32m      6\u001B[0m \u001B[38;5;28mprint\u001B[39m(x_opt)\n",
      "\u001B[1;31mNameError\u001B[0m: name 'optimize' is not defined"
     ]
    }
   ],
   "source": [
    "def neg_Fcelu(x):\n",
    "  return -Fcelu(x)\n",
    "\n",
    "x_pocz = np.random.uniform(-1,4)\n",
    "x_opt = optimize.fmin(neg_Fcelu, x_pocz)\n",
    "print(x_opt)"
   ]
  },
  {
   "attachments": {},
   "cell_type": "markdown",
   "metadata": {},
   "source": [
    "**Ćwiczenie 1:** wykreśl funkcję F(x), a następnie znajdź jej maksimum:\n",
    "$$F(x) = \\sin x + 1.5\\exp\\left[-x^2\\right]$$\n"
   ]
  },
  {
   "cell_type": "code",
   "execution_count": 11,
   "metadata": {
    "ExecuteTime": {
     "end_time": "2024-05-09T05:51:57.369711Z",
     "start_time": "2024-05-09T05:51:57.365017Z"
    }
   },
   "outputs": [],
   "source": []
  },
  {
   "attachments": {},
   "cell_type": "markdown",
   "metadata": {
    "id": "QnFQptMtfujK"
   },
   "source": [
    "Obsługa funkcji wielowymiarowych, czyli takich, dla których $\\mathbf{x} \\in \\Re^N$ jest analogiczna. <br>\n",
    "Zaczynamy od funkcji, której minimum jest oczywiste:\n",
    "$$F(x)=(x_1−2)^2+(x_2+1)^2, \\quad \\text{ gdzie } \\mathbf{x} = \\left[ \\begin{array}{c} x_1 \\\\ x_2 \\end{array} \\right].$$"
   ]
  },
  {
   "attachments": {},
   "cell_type": "markdown",
   "metadata": {
    "id": "AzDbV8MXaiPH"
   },
   "source": [
    "Argument ```x``` jako tabela równoważna wektorowi $\\mathbf{x}$."
   ]
  },
  {
   "cell_type": "code",
   "execution_count": 12,
   "metadata": {
    "colab": {
     "base_uri": "https://localhost:8080/"
    },
    "id": "3tJ9KXfie4Kw",
    "outputId": "654200f6-64db-4143-80b6-1bd792b9f146",
    "ExecuteTime": {
     "end_time": "2024-05-09T05:51:57.420348Z",
     "start_time": "2024-05-09T05:51:57.406384Z"
    }
   },
   "outputs": [
    {
     "data": {
      "text/plain": "1.25"
     },
     "execution_count": 12,
     "metadata": {},
     "output_type": "execute_result"
    }
   ],
   "source": [
    "def Fcelu(x):\n",
    "  return (x[0]-2)**2 + (x[1]+1)**2\n",
    "\n",
    "Fcelu([3,-0.5])"
   ]
  },
  {
   "attachments": {},
   "cell_type": "markdown",
   "metadata": {
    "id": "jK1AHJh4a0Jb"
   },
   "source": [
    "Problem: współrzędnej $x_i$ odpowiada indeks ```x[i-1]```, przez co łatwo o zamieszanie.\n",
    "Lepiej zrobić to tak: "
   ]
  },
  {
   "cell_type": "code",
   "execution_count": 13,
   "metadata": {
    "id": "LVZdIQSygxGk",
    "ExecuteTime": {
     "end_time": "2024-05-09T05:51:57.464516Z",
     "start_time": "2024-05-09T05:51:57.458052Z"
    }
   },
   "outputs": [],
   "source": [
    "def Fcelu(x):\n",
    "  x1, x2 = x       # tak zwane rozpakowanie krotki\n",
    "  return (x1-2)**2 + (x2+1)**2"
   ]
  },
  {
   "attachments": {},
   "cell_type": "markdown",
   "metadata": {
    "id": "8uXVm_N-h1cB"
   },
   "source": [
    "Zwróć uwagę, że rozwiązanie początkowe musi być teraz dwuwymiarowe."
   ]
  },
  {
   "cell_type": "code",
   "execution_count": 14,
   "metadata": {
    "colab": {
     "base_uri": "https://localhost:8080/"
    },
    "id": "zTWlQ2zjfu-J",
    "outputId": "f9c3b697-894b-4dd5-ca4f-cc56d26c1df0",
    "ExecuteTime": {
     "end_time": "2024-05-09T05:51:57.539225Z",
     "start_time": "2024-05-09T05:51:57.499271Z"
    }
   },
   "outputs": [
    {
     "ename": "NameError",
     "evalue": "name 'optimize' is not defined",
     "output_type": "error",
     "traceback": [
      "\u001B[1;31m---------------------------------------------------------------------------\u001B[0m",
      "\u001B[1;31mNameError\u001B[0m                                 Traceback (most recent call last)",
      "Cell \u001B[1;32mIn[14], line 2\u001B[0m\n\u001B[0;32m      1\u001B[0m x_pocz \u001B[38;5;241m=\u001B[39m np\u001B[38;5;241m.\u001B[39mrandom\u001B[38;5;241m.\u001B[39mnormal(loc\u001B[38;5;241m=\u001B[39m\u001B[38;5;241m0\u001B[39m, scale\u001B[38;5;241m=\u001B[39m\u001B[38;5;241m0.1\u001B[39m, size\u001B[38;5;241m=\u001B[39m\u001B[38;5;241m2\u001B[39m)\n\u001B[1;32m----> 2\u001B[0m x_opt \u001B[38;5;241m=\u001B[39m optimize\u001B[38;5;241m.\u001B[39mfmin(Fcelu, x_pocz, disp\u001B[38;5;241m=\u001B[39m\u001B[38;5;28;01mFalse\u001B[39;00m)   \u001B[38;5;66;03m# tym razem wyłączam raport optymalizatora\u001B[39;00m\n\u001B[0;32m      3\u001B[0m \u001B[38;5;28mprint\u001B[39m(\u001B[38;5;124mf\u001B[39m\u001B[38;5;124m'\u001B[39m\u001B[38;5;124mOptimum jest w punkcie \u001B[39m\u001B[38;5;132;01m{\u001B[39;00mx_opt\u001B[38;5;132;01m}\u001B[39;00m\u001B[38;5;124m.\u001B[39m\u001B[38;5;130;01m\\n\u001B[39;00m\u001B[38;5;124mWartość funkcji celu w optimum to \u001B[39m\u001B[38;5;132;01m{\u001B[39;00mFcelu(x_opt)\u001B[38;5;132;01m:\u001B[39;00m\u001B[38;5;124mf\u001B[39m\u001B[38;5;132;01m}\u001B[39;00m\u001B[38;5;124m'\u001B[39m)\n",
      "\u001B[1;31mNameError\u001B[0m: name 'optimize' is not defined"
     ]
    }
   ],
   "source": [
    "x_pocz = np.random.normal(loc=0, scale=0.1, size=2)\n",
    "x_opt = optimize.fmin(Fcelu, x_pocz, disp=False)   # tym razem wyłączam raport optymalizatora\n",
    "print(f'Optimum jest w punkcie {x_opt}.\\nWartość funkcji celu w optimum to {Fcelu(x_opt):f}')"
   ]
  },
  {
   "attachments": {},
   "cell_type": "markdown",
   "metadata": {},
   "source": [
    "**ćwiczenie 2:** Wypróbuj w działaniu bardziej zaawansowane matematycznie procedury np.: \n",
    "* [`fmin_powell`](https://docs.scipy.org/doc/scipy/reference/generated/scipy.optimize.fmin_powell.html),\n",
    "* [`fmin_cg`](https://docs.scipy.org/doc/scipy/reference/generated/scipy.optimize.fmin_cg.html),\n",
    "* [`fmin_bfgs`](https://docs.scipy.org/doc/scipy/reference/generated/scipy.optimize.fmin_bfgs.html).\n",
    "\n",
    "Pomimo znacznie większego ładunku teoretycznego, stosuje się je identycznie jak procedurę `fmin`. "
   ]
  },
  {
   "cell_type": "code",
   "execution_count": 14,
   "metadata": {
    "ExecuteTime": {
     "end_time": "2024-05-09T05:51:57.595348Z",
     "start_time": "2024-05-09T05:51:57.590999Z"
    }
   },
   "outputs": [],
   "source": []
  },
  {
   "cell_type": "code",
   "execution_count": 14,
   "metadata": {
    "ExecuteTime": {
     "end_time": "2024-05-09T05:51:57.642932Z",
     "start_time": "2024-05-09T05:51:57.638088Z"
    }
   },
   "outputs": [],
   "source": []
  },
  {
   "cell_type": "code",
   "execution_count": 14,
   "metadata": {
    "ExecuteTime": {
     "end_time": "2024-05-09T05:51:57.723188Z",
     "start_time": "2024-05-09T05:51:57.718923Z"
    }
   },
   "outputs": [],
   "source": []
  },
  {
   "attachments": {},
   "cell_type": "markdown",
   "metadata": {
    "id": "MvbMU9DTlt33"
   },
   "source": [
    "Procedura [`minimize_scalar`](https://docs.scipy.org/doc/scipy/reference/generated/scipy.optimize.minimize_scalar.html) opakowuje różne procedury minimalizacji funkcji jednej zmiennej, pełniąc dla nich rolę interfejsu programisty. Procedura zwraca słownik zawierający najważniejsze informacje o rezultacie procesu optymalizacji. Pod kluczem `x` znajduje się rozwiązanie."
   ]
  },
  {
   "cell_type": "code",
   "execution_count": 15,
   "metadata": {
    "colab": {
     "base_uri": "https://localhost:8080/"
    },
    "id": "qILJUAlJjv40",
    "outputId": "39b1542d-c385-497f-cbc2-5ea2321d5057",
    "ExecuteTime": {
     "end_time": "2024-05-09T05:51:57.814467Z",
     "start_time": "2024-05-09T05:51:57.775597Z"
    }
   },
   "outputs": [
    {
     "ename": "NameError",
     "evalue": "name 'optimize' is not defined",
     "output_type": "error",
     "traceback": [
      "\u001B[1;31m---------------------------------------------------------------------------\u001B[0m",
      "\u001B[1;31mNameError\u001B[0m                                 Traceback (most recent call last)",
      "Cell \u001B[1;32mIn[15], line 1\u001B[0m\n\u001B[1;32m----> 1\u001B[0m optimize\u001B[38;5;241m.\u001B[39mminimize(Fcelu, x0\u001B[38;5;241m=\u001B[39mx_pocz, method\u001B[38;5;241m=\u001B[39m\u001B[38;5;124m'\u001B[39m\u001B[38;5;124mL-BFGS-B\u001B[39m\u001B[38;5;124m'\u001B[39m)\n",
      "\u001B[1;31mNameError\u001B[0m: name 'optimize' is not defined"
     ]
    }
   ],
   "source": [
    "optimize.minimize(Fcelu, x0=x_pocz, method='L-BFGS-B')"
   ]
  },
  {
   "attachments": {},
   "cell_type": "markdown",
   "metadata": {},
   "source": [
    "**Ćwiczenie 3**: Wykonaj optymalizację metodami z ćwiczenia drugiego wykorzystując do tego interfejs `optimize.minimize`. Przyjrzyj się temu jakie dane zawiera wynik `optimize.minimize` (z czego składa się obiekt `OptimizeResult`)."
   ]
  },
  {
   "cell_type": "code",
   "execution_count": 15,
   "metadata": {
    "colab": {
     "base_uri": "https://localhost:8080/"
    },
    "id": "4AA6fUi5j9ko",
    "outputId": "e5398b7f-1c1b-42f5-836c-1a58305a43b3",
    "ExecuteTime": {
     "end_time": "2024-05-09T05:51:57.872059Z",
     "start_time": "2024-05-09T05:51:57.866412Z"
    }
   },
   "outputs": [],
   "source": []
  },
  {
   "attachments": {},
   "cell_type": "markdown",
   "metadata": {
    "id": "OhKaVK8WkK18"
   },
   "source": [
    "W trudnych sytuacjach tonący brzytwy się chwyta, a w dziedzinie optymalizacji brzytwą jest metoda przeglądu zupełnego (ang. *brute force*, *grid search*).<br>\n",
    "Należy określić z góry kostkę w $N$-wymiarowej przestrzeni rozwiązań, która będzie brutalnie przeszukiwana."
   ]
  },
  {
   "cell_type": "code",
   "execution_count": 16,
   "metadata": {
    "colab": {
     "base_uri": "https://localhost:8080/"
    },
    "id": "IBIRS6jikFdg",
    "outputId": "3c445c6e-81f5-4c61-99d9-7749036e785c",
    "ExecuteTime": {
     "end_time": "2024-05-09T05:51:58.022525Z",
     "start_time": "2024-05-09T05:51:57.903349Z"
    }
   },
   "outputs": [
    {
     "ename": "NameError",
     "evalue": "name 'optimize' is not defined",
     "output_type": "error",
     "traceback": [
      "\u001B[1;31m---------------------------------------------------------------------------\u001B[0m",
      "\u001B[1;31mNameError\u001B[0m                                 Traceback (most recent call last)",
      "Cell \u001B[1;32mIn[16], line 1\u001B[0m\n\u001B[1;32m----> 1\u001B[0m optimize\u001B[38;5;241m.\u001B[39mbrute(Fcelu, (\u001B[38;5;28mslice\u001B[39m(\u001B[38;5;241m-\u001B[39m\u001B[38;5;241m2\u001B[39m, \u001B[38;5;241m2\u001B[39m, \u001B[38;5;241m0.1\u001B[39m), \u001B[38;5;28mslice\u001B[39m(\u001B[38;5;241m1\u001B[39m, \u001B[38;5;241m6\u001B[39m, \u001B[38;5;241m0.1\u001B[39m)))\n",
      "\u001B[1;31mNameError\u001B[0m: name 'optimize' is not defined"
     ]
    }
   ],
   "source": [
    "optimize.brute(Fcelu, (slice(-2, 2, 0.1), slice(1, 6, 0.1)))"
   ]
  },
  {
   "attachments": {},
   "cell_type": "markdown",
   "metadata": {
    "id": "g_zz-LJ7aPu5"
   },
   "source": [
    "### **Optymalizacja z ograniczeniami**\n"
   ]
  },
  {
   "attachments": {},
   "cell_type": "markdown",
   "metadata": {
    "id": "CQBMRNJzodCz"
   },
   "source": [
    "Najłatwiej obsłużyć ograniczenia w postaci prostych **przedziałów dozwolonych wartości**, które wycinają z przestrzeni rozwiązań $N$-wymiarową kostkę."
   ]
  },
  {
   "attachments": {},
   "cell_type": "markdown",
   "metadata": {
    "id": "54TG31acaPu9"
   },
   "source": [
    "Funkcja celu: \n",
    "$$F(\\mathbf{x}) = (x_1-1)^2 + (x_2+2)^2 + x_1x_2$$\n",
    "Ograniczenia: \n",
    "$$3.5 \\leq x_1 \\leq 6$$\n",
    "$$-5 \\leq x_2 \\leq -2$$"
   ]
  },
  {
   "cell_type": "code",
   "execution_count": null,
   "metadata": {
    "colab": {
     "base_uri": "https://localhost:8080/"
    },
    "id": "Zgl1NMDpaPvA",
    "outputId": "f4748478-f39c-452c-f5d0-fafeaa2bbf88",
    "ExecuteTime": {
     "end_time": "2024-05-09T05:51:58.025583Z",
     "start_time": "2024-05-09T05:51:58.025075Z"
    }
   },
   "outputs": [],
   "source": [
    "def Fcelu(x):\n",
    "    x1, x2 = x\n",
    "    return (x1-1)**2 + (x2+2)**2 +x1*x2\n",
    "\n",
    "ograniczenia = {'x1': (3.5, 6), 'x2': (-5,-2)}\n",
    "x_pocz = (\n",
    "    np.random.uniform(*ograniczenia['x1']),\n",
    "    np.random.uniform(*ograniczenia['x2'])\n",
    ")\n",
    "\n",
    "x_opt = optimize.minimize(\n",
    "    Fcelu, x_pocz, method='TNC', bounds=list(ograniczenia.values())\n",
    ").x\n",
    "print(x_opt)"
   ]
  },
  {
   "attachments": {},
   "cell_type": "markdown",
   "metadata": {
    "id": "TKdf0QgmaXeF"
   },
   "source": [
    "**Ograniczenia jako funkcje** $g$ <br>\n",
    "\n",
    "Dla tej samej funkcji celu, co wcześniej wymieniamy ograniczenie na:<br>\n",
    "$g(\\mathbf{x}) = x_2 + 2 + 2(x_1-3)^2 - (x_1 - 3)^4 \\geq 0$. <br>\n",
    "Zwróć uwagę, że w optymalizatorze obowiązuje konwencja $g(x) \\geq 0$, odwrotna niż na wykładzie."
   ]
  },
  {
   "cell_type": "code",
   "execution_count": null,
   "metadata": {
    "colab": {
     "base_uri": "https://localhost:8080/"
    },
    "id": "yfFOPMoKaXeH",
    "outputId": "10f97569-e31b-4753-d5dd-24050399f3c3"
   },
   "outputs": [],
   "source": [
    "def g(x):\n",
    "    x1, x2 = x\n",
    "    return x2 + 2 + 2*(x1-3)**2 - (x1-3)**4\n",
    "\n",
    "ograniczenia = {'type': 'ineq', 'fun': g}\n",
    "x_pocz = np.random.uniform(-5,5, size=2)\n",
    "\n",
    "x_opt = optimize.minimize(\n",
    "    Fcelu, x_pocz, method='SLSQP', constraints=ograniczenia\n",
    ").x\n",
    "print(x_opt)"
   ]
  },
  {
   "attachments": {},
   "cell_type": "markdown",
   "metadata": {
    "id": "r0L3uWlclDzH"
   },
   "source": [
    "Wypróbujmy inny optymalizator: [```fmin_cobyla```](https://docs.scipy.org/doc/scipy/reference/generated/scipy.optimize.fmin_cobyla.html).<br>\n",
    "Funkcja celu:  \n",
    "$F(\\mathbf{x}) = x_1 x_2$  \n",
    "Ograniczenia:  \n",
    "$x_1^2 + x_2^2 \\leq 1$  \n",
    "$x_2 \\geq 0$ <br>\n",
    "Zauważ, że procedura zakłada ograniczenia nierównościowe w postaci $g(\\mathbf{x}) > 0$, odwrotnie niż na naszych zajęciach."
   ]
  },
  {
   "cell_type": "code",
   "execution_count": null,
   "metadata": {
    "colab": {
     "base_uri": "https://localhost:8080/"
    },
    "id": "EjZyO2g2k-Rw",
    "outputId": "10d5a6c8-9a9e-4e10-d175-e8637894fe1a"
   },
   "outputs": [],
   "source": [
    "def Fcelu(x):\n",
    "    x1, x2 = x\n",
    "    return x1*x2\n",
    "\n",
    "def g1(x):\n",
    "    x1, x2 = x\n",
    "    return 1 - (x1**2 + x2**2)\n",
    "\n",
    "def g2(x):\n",
    "    x1, x2 = x\n",
    "    return x2\n",
    "\n",
    "x_pocz = np.random.uniform(0, 1, size=2)\n",
    "x_opt = optimize.fmin_cobyla(Fcelu, x_pocz, cons=[g1, g2])\n",
    "\n",
    "print(f'Minimum: {x_opt}')\n",
    "print(f'g1: {g1(x_opt):f}')\n",
    "print(f'g2: {g2(x_opt):f}')"
   ]
  },
  {
   "attachments": {},
   "cell_type": "markdown",
   "metadata": {},
   "source": [
    "**Ćwiczenie 4:** Wykorzystaj optymalizator `fmin_cobyla`:\n",
    "\n",
    "Funkcja celu:\n",
    "$F(\\mathbf{x}) = 2x_1 x_2 x_3$\n",
    "\n",
    "Ograniczenia:  \n",
    "$2x_1^2 + x_2^2 - x_3^3 \\leq 3$  \n",
    "$3\\geq  x_2 \\geq 0$ <br>\n",
    "$x_3 \\geq 1$ <br>"
   ]
  },
  {
   "cell_type": "code",
   "execution_count": null,
   "metadata": {
    "ExecuteTime": {
     "start_time": "2024-05-09T05:51:58.032053Z"
    }
   },
   "outputs": [],
   "source": []
  },
  {
   "attachments": {},
   "cell_type": "markdown",
   "metadata": {
    "id": "fFIQ0fBslQ8H"
   },
   "source": [
    "**Ograniczenia równościowe**: $\\quad g(\\mathbf{x})=0$ <br>\n",
    "Funkcja celu: \n",
    "$$F(\\mathbf{x}) = -x_1^2 - x_2^2 - x_3^2$$ \n",
    "Ograniczenia: \n",
    "$$x_1 = x_3$$\n",
    "$$x_3 = x_1 + x_2 - 5$$"
   ]
  },
  {
   "cell_type": "code",
   "execution_count": null,
   "metadata": {
    "colab": {
     "base_uri": "https://localhost:8080/"
    },
    "id": "9PsRCLbNlJsI",
    "outputId": "df947465-bfba-455a-fa2f-5062de12f644",
    "ExecuteTime": {
     "start_time": "2024-05-09T05:51:58.034216Z"
    }
   },
   "outputs": [],
   "source": [
    "def Fcelu(x):\n",
    "    x1, x2, x3 = x\n",
    "    return x1**2 + x2**2 + x3**2\n",
    "\n",
    "def g1(x):\n",
    "    x1, x2, x3 = x\n",
    "    return x1 - x3\n",
    "\n",
    "def g2(x):\n",
    "    x1, x2, x3 = x\n",
    "    return x1 + x2 - 5 - x3\n",
    "\n",
    "ograniczenia = ({'type': 'eq', 'fun': g1}, {'type': 'eq', 'fun': g2})\n",
    "x_pocz = np.random.uniform(0, 1, size=3)\n",
    "\n",
    "x_opt = optimize.minimize(\n",
    "    Fcelu, x_pocz, method='SLSQP', constraints=ograniczenia\n",
    ").x\n",
    "print(x_opt)"
   ]
  },
  {
   "attachments": {},
   "cell_type": "markdown",
   "metadata": {
    "id": "nK-oq48YlcPR"
   },
   "source": [
    "W celu rozwiązania zadań __programowania liniowego__ (i ogólnie zadań _programowania_ w optymalizacji) odsyłam zainteresowane osoby do metod dedykowanych:\n",
    "* [```linprog```](https://docs.scipy.org/doc/scipy-0.18.1/reference/generated/scipy.optimize.linprog.html),\n",
    "* [cvxopt](https://cvxopt.org/) (biblioteka zewnętrzna),\n",
    "* [PuLP](https://coin-or.github.io/pulp/main/installing_pulp_at_home.html)\n",
    "\n",
    "Warto spojrzeć również do dokumentacji [scipy.optimize](https://docs.scipy.org/doc/scipy/tutorial/optimize.html) oraz ksiązki internetowej [Scipy Lecture Notes](https://scipy-lectures.org/)."
   ]
  },
  {
   "attachments": {},
   "cell_type": "markdown",
   "metadata": {
    "id": "GvqvtkIb9jIY"
   },
   "source": [
    "**Coś więcej** niż sugestia:<br>\n",
    "Potrafisz już rozwiązać numerycznie zadania optymalizacji, które na ćwiczeniach rozwiązywane były analitycznie."
   ]
  }
 ],
 "metadata": {
  "colab": {
   "collapsed_sections": [],
   "name": "MSiD_5_optymalizacja.ipynb",
   "provenance": []
  },
  "interpreter": {
   "hash": "0b51826e000ae94bed4f869b6985bbf026c2d9e14d99dac09b729841a359c888"
  },
  "kernelspec": {
   "display_name": "Python 3.9.12 ('msid')",
   "language": "python",
   "name": "python3"
  },
  "language_info": {
   "codemirror_mode": {
    "name": "ipython",
    "version": 3
   },
   "file_extension": ".py",
   "mimetype": "text/x-python",
   "name": "python",
   "nbconvert_exporter": "python",
   "pygments_lexer": "ipython3",
   "version": "3.8.13"
  }
 },
 "nbformat": 4,
 "nbformat_minor": 0
}
